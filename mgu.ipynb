{
 "metadata": {
  "language_info": {
   "codemirror_mode": {
    "name": "ipython",
    "version": 3
   },
   "file_extension": ".py",
   "mimetype": "text/x-python",
   "name": "python",
   "nbconvert_exporter": "python",
   "pygments_lexer": "ipython3",
   "version": "3.7.9-final"
  },
  "orig_nbformat": 2,
  "kernelspec": {
   "name": "Python 3.7.9 64-bit ('mgu-lab': conda)",
   "display_name": "Python 3.7.9 64-bit ('mgu-lab': conda)",
   "metadata": {
    "interpreter": {
     "hash": "f7380a7a517a3126ea41455c7f9370e55a346de8ff204edab6f6fc84119f7120"
    }
   }
  }
 },
 "nbformat": 4,
 "nbformat_minor": 2,
 "cells": [
  {
   "cell_type": "code",
   "execution_count": 8,
   "metadata": {},
   "outputs": [],
   "source": [
    "import numpy as np # linear algebra\n",
    "import pandas as pd # data processing, CSV file I/O (e.g. pd.read_csv)\n",
    "import matplotlib.pyplot as plt\n",
    "%matplotlib inline\n",
    "from glob import glob\n",
    "import sklearn\n",
    "import tensorflow as tf\n",
    "# Input data files are available in the \"../input/\" directory.\n",
    "# For example, running this (by clicking run or pressing Shift+Enter) will list the files in the input directory\n",
    "\n",
    "import os"
   ]
  },
  {
   "cell_type": "code",
   "execution_count": 9,
   "metadata": {},
   "outputs": [],
   "source": [
    "# Activety types dict:\n",
    "Activety_Types = {'dws':1,'jog':2,'sit':3,'std':4,'ups':5,'wlk':6}        \n",
    "listDict = list(Activety_Types.keys())"
   ]
  },
  {
   "cell_type": "code",
   "execution_count": 10,
   "metadata": {},
   "outputs": [],
   "source": [
    "# Data Folders:\n",
    "Folders = glob('input/A_DeviceMotion_data/*_*')\n",
    "Folders = [s for s in Folders if \"csv\" not in s]\n",
    "\n",
    "Df_all_list = []\n",
    "Exp = 0\n",
    "# Segment the data to 400 sampels frames , each one will be a different Expirament\n",
    "Segment_Size = 400\n",
    "\n",
    "# Load All data:\n",
    "for j  in Folders:\n",
    "    Csv = glob(j + '/*' )\n",
    "\n",
    "\n",
    "    for i in Csv:\n",
    "        df = pd.read_csv(i)\n",
    "        # Add Activety label, Subject name and Experiment number\n",
    "        df['Activity'] = Activety_Types[j[26:29]]\n",
    "        df['Sub_Num'] = i[len(j)+5:-4]\n",
    "        df['Exp_num'] = 1\n",
    "        ExpNum = np.zeros((df.shape[0])) \n",
    "        for i in range(0,df.shape[0]-Segment_Size,Segment_Size):\n",
    "            ExpNum[range(i,i+Segment_Size)] = i/Segment_Size +Exp*100 \n",
    "        df['Exp_num'] = ExpNum\n",
    "        #Df_all = pd.concat([Df_all,df])\n",
    "        Df_all_list.append(df)\n",
    "        Exp += 1        \n",
    "\n",
    "Df_all = pd.concat(Df_all_list,axis=0)"
   ]
  },
  {
   "cell_type": "code",
   "execution_count": 11,
   "metadata": {},
   "outputs": [],
   "source": [
    "#  Calculate features\n",
    "df_sum = Df_all.groupby('Exp_num', axis=0).mean().reset_index()\n",
    "df_sum.columns = df_sum.columns.str.replace('.','_sum_')\n",
    "\n",
    "df_sum_SS = np.power(Df_all.astype(float),2).groupby('Exp_num', axis=0).median().reset_index() \n",
    "df_sum_SS.columns = df_sum_SS.columns.str.replace('.','_sumSS_')\n",
    "\n",
    "df_max = Df_all.groupby('Exp_num', axis=0).max().reset_index()\n",
    "df_max.columns = df_max.columns.str.replace('.','_max_')\n",
    "\n",
    "df_min = Df_all.groupby('Exp_num', axis=0).min().reset_index()\n",
    "df_min.columns = df_min.columns.str.replace('.','_min_')\n",
    "\n",
    "df_skew = Df_all.groupby('Exp_num', axis=0).skew().reset_index()\n",
    "df_skew.columns = df_skew.columns.str.replace('.','_skew_')\n",
    "\n",
    "df_std = Df_all.groupby('Exp_num', axis=0).std().reset_index()\n",
    "df_std.columns = df_std.columns.str.replace('.','_std_')"
   ]
  },
  {
   "cell_type": "code",
   "execution_count": 12,
   "metadata": {},
   "outputs": [],
   "source": [
    "# Concat features and labels vector into one Data Frame:\n",
    "Df_Features = pd.concat([ df_max , df_sum[df_sum.columns[2:-2]], \n",
    "                         df_min[df_min.columns[2:-2]], df_sum_SS[df_sum_SS.columns[2:-2]], \n",
    "                         df_std[df_std.columns[2:-2]], df_skew[df_skew.columns[2:-2]]], axis=1)\n",
    "# Features\n",
    "Df_Features_1 = Df_Features.drop(['Exp_num','Unnamed: 0','Activity','Sub_Num'],axis=1)\n",
    "Labels = Df_Features['Activity']\n",
    "\n"
   ]
  },
  {
   "cell_type": "code",
   "execution_count": null,
   "metadata": {},
   "outputs": [],
   "source": []
  }
 ]
}