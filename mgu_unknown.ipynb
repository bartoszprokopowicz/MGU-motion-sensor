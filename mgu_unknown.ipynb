{
 "metadata": {
  "language_info": {
   "codemirror_mode": {
    "name": "ipython",
    "version": 3
   },
   "file_extension": ".py",
   "mimetype": "text/x-python",
   "name": "python",
   "nbconvert_exporter": "python",
   "pygments_lexer": "ipython3",
   "version": "3.7.9-final"
  },
  "orig_nbformat": 2,
  "kernelspec": {
   "name": "python3",
   "display_name": "Python 3.7.9 64-bit ('mgu-lab': conda)",
   "metadata": {
    "interpreter": {
     "hash": "f7380a7a517a3126ea41455c7f9370e55a346de8ff204edab6f6fc84119f7120"
    }
   }
  }
 },
 "nbformat": 4,
 "nbformat_minor": 2,
 "cells": [
  {
   "cell_type": "code",
   "execution_count": 1,
   "metadata": {},
   "outputs": [
    {
     "output_type": "stream",
     "name": "stderr",
     "text": [
      "Using TensorFlow backend.\n"
     ]
    }
   ],
   "source": [
    "import numpy as np # linear algebra\n",
    "import pandas as pd # data processing, CSV file I/O (e.g. pd.read_csv)\n",
    "import matplotlib.pyplot as plt\n",
    "%matplotlib inline\n",
    "from glob import glob\n",
    "import sklearn\n",
    "from sklearn.model_selection import train_test_split\n",
    "from sklearn.metrics import confusion_matrix\n",
    "import tensorflow as tf\n",
    "from keras.models import Sequential\n",
    "from keras.layers import Dense\n",
    "from keras.layers import Flatten\n",
    "from keras.layers import Dropout\n",
    "from keras.layers import LSTM\n",
    "from keras.utils import to_categorical\n",
    "# Input data files are available in the \"../input/\" directory.\n",
    "# For example, running this (by clicking run or pressing Shift+Enter) will list the files in the input directory\n",
    "\n",
    "import os"
   ]
  },
  {
   "cell_type": "code",
   "execution_count": 2,
   "metadata": {},
   "outputs": [],
   "source": [
    "# Activety types dict:\n",
    "Activety_Types = {'dws':1,'jog':2,'sit':3,'std':4,'ups':5,'wlk':6}        \n",
    "listDict = list(Activety_Types.keys())"
   ]
  },
  {
   "cell_type": "code",
   "execution_count": 3,
   "metadata": {},
   "outputs": [],
   "source": [
    "# Data folders:\n",
    "folders = glob('input/A_DeviceMotion_data/*_*')\n",
    "folders = [s for s in folders if \"csv\" not in s]\n",
    "\n",
    "X = list()\n",
    "y = list()\n",
    "n_timesteps = 100\n",
    "\n",
    "# Load All data:\n",
    "for j  in folders:\n",
    "    csv = glob(j + '/*' )\n",
    "    # Get activity type from folder name\n",
    "    activity = Activety_Types[j[26:29]]\n",
    "\n",
    "    for i in csv:\n",
    "        df = pd.read_csv(i, index_col=0).to_numpy()\n",
    "        \n",
    "        # Split data into samples of equal number of time steps\n",
    "        split_positions = list(range(n_timesteps, len(df), n_timesteps))\n",
    "        df = np.vsplit(df, split_positions)\n",
    "\n",
    "        # Make sure all samples are of equal size\n",
    "        if (len(df[-1]) < n_timesteps):\n",
    "            df = df[:-1]\n",
    "\n",
    "        X.extend(df)\n",
    "        y.extend(np.full(len(df), activity))\n",
    "\n",
    "X = np.array(X)\n",
    "y = np.array(y)"
   ]
  },
  {
   "cell_type": "code",
   "execution_count": 4,
   "metadata": {
    "tags": []
   },
   "outputs": [],
   "source": [
    "X_train, X_test, y_train, y_test = train_test_split(X, y, random_state=42)\n",
    "\n",
    "ups_y_train = [i for i, x in enumerate(y_train) if x == Activety_Types['ups']]\n",
    "X_train = [x for i, x in enumerate(X_train) if i not in ups_y_train]\n",
    "y_train = [x for i, x in enumerate(y_train) if x != Activety_Types['ups']]\n",
    "\n",
    "X_train = np.array(X_train)\n",
    "y_train = np.array(y_train)\n",
    "\n",
    "# zero-offset class values\n",
    "y_train = y_train - 1\n",
    "y_test = y_test - 1\n",
    "# one hot encode y\n",
    "y_train = to_categorical(y_train)\n",
    "y_test = to_categorical(y_test)\n",
    "\n",
    "# Shape of X: [samples, time steps, features]\n",
    "n_features, n_outputs = X_train.shape[2], y_train.shape[1]"
   ]
  },
  {
   "cell_type": "code",
   "execution_count": 5,
   "metadata": {},
   "outputs": [
    {
     "output_type": "stream",
     "name": "stdout",
     "text": [
      "(13952, 100, 12) (13952,)\n(10464, 100, 12) (3488, 100, 12) (10464, 6) (3488, 6)\n"
     ]
    }
   ],
   "source": [
    "print(X.shape, y.shape)\n",
    "print(X_train.shape, X_test.shape, y_train.shape, y_test.shape)"
   ]
  },
  {
   "cell_type": "code",
   "execution_count": 6,
   "metadata": {},
   "outputs": [],
   "source": [
    "verbose, epochs, batch_size = 0, 15, 64\n",
    "model = Sequential()\n",
    "model.add(LSTM(100, input_shape=(n_timesteps,n_features)))\n",
    "model.add(Dropout(0.5))\n",
    "model.add(Dense(100, activation='relu'))\n",
    "model.add(Dense(n_outputs, activation='softmax'))\n",
    "model.compile(loss='categorical_crossentropy', optimizer='adam', metrics=['accuracy'])\n",
    "\n",
    "model.fit(X_train, y_train, epochs=epochs, batch_size=batch_size, verbose=verbose)\n",
    "y_pred = model.predict(X_test, batch_size, use_multiprocessing=True)"
   ]
  },
  {
   "cell_type": "code",
   "execution_count": 7,
   "metadata": {},
   "outputs": [
    {
     "output_type": "stream",
     "name": "stdout",
     "text": [
      "tf.Tensor(\n[[289   2   0   1  20  11]\n [  2 320   0   0   0   3]\n [  0   0 839   0   0   0]\n [  1   0   0 783   1   1]\n [ 10   0   0   2 381  10]\n [  2   0   0   0  10 800]], shape=(6, 6), dtype=int32)\n"
     ]
    }
   ],
   "source": [
    "y_pred_max = tf.argmax(y_pred, axis=1)\n",
    "y_test_max = tf.argmax(y_test, axis=1)\n",
    "confusion_matrix = tf.math.confusion_matrix(y_test_max, y_pred_max, n_outputs)\n",
    "\n",
    "print(confusion_matrix)"
   ]
  },
  {
   "cell_type": "code",
   "execution_count": 69,
   "metadata": {
    "tags": []
   },
   "outputs": [
    {
     "output_type": "stream",
     "name": "stdout",
     "text": [
      "tf.Tensor(\n[[238   0   0   0   0  22  63]\n [  1 318   0   0   0   1   5]\n [  0   0 839   0   0   0   0]\n [  0   0   0 782   0   1   3]\n [ 21   6   0  14   0 143 219]\n [  0   0   0   0   0 779  33]\n [  0   0   0   0   0   0   0]], shape=(7, 7), dtype=int32)\n"
     ]
    }
   ],
   "source": [
    "threshold = 0.98\n",
    "\n",
    "def to_class(pred):\n",
    "    p_class = np.max(pred)\n",
    "    if (p_class > threshold):\n",
    "        return np.argmax(pred)\n",
    "    \n",
    "    return len(pred)\n",
    "\n",
    "y_pred_cutoff = tf.convert_to_tensor(list(map(to_class, y_pred)))\n",
    "\n",
    "confusion_matrix_cutoff = tf.math.confusion_matrix(y_test_max, y_pred_cutoff, n_outputs+1)\n",
    "\n",
    "print(confusion_matrix_cutoff)"
   ]
  }
 ]
}