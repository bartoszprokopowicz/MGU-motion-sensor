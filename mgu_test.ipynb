{
 "metadata": {
  "language_info": {
   "codemirror_mode": {
    "name": "ipython",
    "version": 3
   },
   "file_extension": ".py",
   "mimetype": "text/x-python",
   "name": "python",
   "nbconvert_exporter": "python",
   "pygments_lexer": "ipython3",
   "version": "3.7.9-final"
  },
  "orig_nbformat": 2,
  "kernelspec": {
   "name": "python3",
   "display_name": "Python 3.7.9 64-bit ('mgu-lab': conda)",
   "metadata": {
    "interpreter": {
     "hash": "f7380a7a517a3126ea41455c7f9370e55a346de8ff204edab6f6fc84119f7120"
    }
   }
  }
 },
 "nbformat": 4,
 "nbformat_minor": 2,
 "cells": [
  {
   "cell_type": "code",
   "execution_count": 10,
   "metadata": {},
   "outputs": [],
   "source": [
    "import numpy as np # linear algebra\n",
    "import pandas as pd # data processing, CSV file I/O (e.g. pd.read_csv)\n",
    "import matplotlib.pyplot as plt\n",
    "%matplotlib inline\n",
    "from glob import glob\n",
    "import sklearn\n",
    "from sklearn.model_selection import train_test_split\n",
    "from sklearn.metrics import confusion_matrix, accuracy_score\n",
    "import tensorflow as tf\n",
    "from keras.models import Sequential\n",
    "from keras.layers import Dense\n",
    "from keras.layers import Flatten\n",
    "from keras.layers import Dropout\n",
    "from keras.layers import LSTM\n",
    "from keras.utils import to_categorical\n",
    "# Input data files are available in the \"../input/\" directory.\n",
    "# For example, running this (by clicking run or pressing Shift+Enter) will list the files in the input directory\n",
    "\n",
    "import os"
   ]
  },
  {
   "cell_type": "code",
   "execution_count": 2,
   "metadata": {},
   "outputs": [],
   "source": [
    "# Activety types dict:\n",
    "Activety_Types = {'dws':1,'jog':2,'sit':3,'std':4,'ups':5,'wlk':6}        \n",
    "listDict = list(Activety_Types.keys())"
   ]
  },
  {
   "cell_type": "code",
   "execution_count": 3,
   "metadata": {},
   "outputs": [],
   "source": [
    "# Data folders:\n",
    "folders = glob('input/A_DeviceMotion_data/*_*')\n",
    "folders = [s for s in folders if \"csv\" not in s]\n",
    "\n",
    "X = list()\n",
    "y = list()\n",
    "n_timesteps = 100\n",
    "\n",
    "# Load All data:\n",
    "for j  in folders:\n",
    "    csv = glob(j + '/*' )\n",
    "    # Get activity type from folder name\n",
    "    activity = Activety_Types[j[26:29]]\n",
    "\n",
    "    for i in csv:\n",
    "        df = pd.read_csv(i, index_col=0).to_numpy()\n",
    "        \n",
    "        # Split data into samples of equal number of time steps\n",
    "        split_positions = list(range(n_timesteps, len(df), n_timesteps))\n",
    "        df = np.vsplit(df, split_positions)\n",
    "\n",
    "        # Make sure all samples are of equal size\n",
    "        if (len(df[-1]) < n_timesteps):\n",
    "            df = df[:-1]\n",
    "\n",
    "        X.extend(df)\n",
    "        y.extend(np.full(len(df), activity))\n",
    "\n",
    "X_train = np.array(X)\n",
    "y_train = np.array(y)"
   ]
  },
  {
   "cell_type": "code",
   "execution_count": 4,
   "metadata": {},
   "outputs": [],
   "source": [
    "folders = glob('test/*')\n",
    "\n",
    "X = list()\n",
    "y = list()\n",
    "n_timesteps = 100\n",
    "\n",
    "# Load test data:\n",
    "for j  in folders:\n",
    "    csv = glob(j + '/*' )\n",
    "    # Get activity type from folder name\n",
    "    activity = Activety_Types[j[5:8]]\n",
    "\n",
    "    for i in csv:\n",
    "        df = pd.read_csv(i, index_col=0).to_numpy()\n",
    "        \n",
    "        # Split data into samples of equal number of time steps\n",
    "        split_positions = list(range(n_timesteps, len(df), n_timesteps))\n",
    "        df = np.vsplit(df, split_positions)\n",
    "\n",
    "        # Make sure all samples are of equal size\n",
    "        if (len(df[-1]) < n_timesteps):\n",
    "            df = df[:-1]\n",
    "\n",
    "        X.extend(df)\n",
    "        y.extend(np.full(len(df), activity))\n",
    "\n",
    "X_test = np.array(X)\n",
    "y_test = np.array(y)"
   ]
  },
  {
   "cell_type": "code",
   "execution_count": 5,
   "metadata": {
    "tags": []
   },
   "outputs": [],
   "source": [
    "# zero-offset class values\n",
    "y_train = y_train - 1\n",
    "y_test = y_test - 1\n",
    "# one hot encode y\n",
    "y_train = to_categorical(y_train)\n",
    "y_test = to_categorical(y_test)\n",
    "\n",
    "# Shape of X: [samples, time steps, features]\n",
    "n_features, n_outputs = X_train.shape[2], y_train.shape[1]"
   ]
  },
  {
   "cell_type": "code",
   "execution_count": 7,
   "metadata": {},
   "outputs": [
    {
     "output_type": "stream",
     "name": "stdout",
     "text": [
      "(13952, 100, 12) (121, 100, 12) (13952, 6) (121, 6)\n"
     ]
    }
   ],
   "source": [
    "print(X_train.shape, X_test.shape, y_train.shape, y_test.shape)"
   ]
  },
  {
   "cell_type": "code",
   "execution_count": 8,
   "metadata": {},
   "outputs": [],
   "source": [
    "verbose, epochs, batch_size = 0, 15, 64\n",
    "model = Sequential()\n",
    "model.add(LSTM(100, input_shape=(n_timesteps,n_features)))\n",
    "model.add(Dropout(0.5))\n",
    "model.add(Dense(100, activation='relu'))\n",
    "model.add(Dense(n_outputs, activation='softmax'))\n",
    "model.compile(loss='categorical_crossentropy', optimizer='adam', metrics=['accuracy'])\n",
    "\n",
    "model.fit(X_train, y_train, epochs=epochs, batch_size=batch_size, verbose=verbose)\n",
    "y_pred = model.predict(X_test, batch_size, use_multiprocessing=True)\n"
   ]
  },
  {
   "cell_type": "code",
   "execution_count": 17,
   "metadata": {},
   "outputs": [
    {
     "output_type": "stream",
     "name": "stdout",
     "text": [
      "tf.Tensor(\n[[14  0  0  0 10  2]\n [ 0  0  0  0  0  0]\n [ 3  0 18  0  0  0]\n [ 0  0  0  7  0  0]\n [ 0  0  0  0 15  8]\n [ 7  0  1  0 25 11]], shape=(6, 6), dtype=int32)\n0.5371900826446281\n"
     ]
    }
   ],
   "source": [
    "y_pred_max = tf.argmax(y_pred, axis=1)\n",
    "y_test_max = tf.argmax(y_test, axis=1)\n",
    "\n",
    "confusion_matrix = tf.math.confusion_matrix(y_test_max, y_pred_max, n_outputs)\n",
    "score = accuracy_score(y_test_max, y_pred_max)\n",
    "\n",
    "print(confusion_matrix)\n",
    "print(score)"
   ]
  }
 ]
}